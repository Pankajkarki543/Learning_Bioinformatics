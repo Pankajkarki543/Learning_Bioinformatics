{
 "cells": [
  {
   "cell_type": "markdown",
   "metadata": {},
   "source": [
    "# Bioinformatics Project: BLAST Analysis of *Escherichia coli* Sequence\n",
    "\n",
    "## Project Description\n",
    "This project involves retrieving a nucleotide sequence from the NCBI GenBank database and performing a BLAST search to find similar sequences. The sequence used is from the bacterium *Escherichia coli*. The steps include:\n",
    "\n",
    "1. Retrieving an *E. coli* sequence using BioPython's Entrez module.\n",
    "2. Performing a BLAST search using the retrieved sequence.\n",
    "3. Analyzing and interpreting the BLAST results.\n",
    "\n",
    "The project demonstrates basic bioinformatics techniques essential for genomic research and data analysis.\n"
   ]
  },
  {
   "cell_type": "markdown",
   "metadata": {},
   "source": [
    "**Importing necessary libraries**"
   ]
  },
  {
   "cell_type": "code",
   "execution_count": 32,
   "metadata": {},
   "outputs": [],
   "source": [
    "from Bio import Entrez, SeqIO\n",
    "from Bio.Blast import NCBIWWW, NCBIXML\n",
    "from Bio import SearchIO\n",
    "import matplotlib.pyplot as plt\n",
    "import seaborn as sns\n",
    "from Bio import AlignIO"
   ]
  },
  {
   "cell_type": "code",
   "execution_count": 2,
   "metadata": {},
   "outputs": [],
   "source": [
    "# Setting up email address for Entrez (required by NCBI)\n",
    "Entrez.email = \"karkidholipankaj@gmail.com\""
   ]
  },
  {
   "cell_type": "markdown",
   "metadata": {},
   "source": [
    "**Retrieving an *E. coli* Nucleotide Sequence**\n",
    "\n",
    "In this step, we will retrieve a nucleotide sequence from the bacterium *Escherichia coli* using BioPython's Entrez module. The sequence will be used for subsequent BLAST analysis to find similar sequences. *E. coli* is a common model organism in microbiology and genetics studies, and its sequences are well-documented in databases like NCBI GenBank.\n"
   ]
  },
  {
   "cell_type": "code",
   "execution_count": 3,
   "metadata": {},
   "outputs": [
    {
     "name": "stdout",
     "output_type": "stream",
     "text": [
      ">CP157248.1 Escherichia coli strain 2024CK-00535 plasmid unnamed5, complete sequence\n",
      "TAATGGTACGCTGTATCCCGCGTTTGCCGTTCCCTCAGCCGATAACAGCCAGCTGGTCATCAGTGCACTG\n",
      "ACCGATAAGGGGTTACGGTATGCAGGGTATGGTGTTGCCGTAAATCACGATGCAGACAGCCACATATCAC\n",
      "CTGCGCCGGAACTTATGGAGTTTCATCTGAAAACCCGTGAGGCACCGCTTTTTGCTGCCGTCAACACACC\n",
      "AGAAAAACAGCCGGATCATCTGTTCCGCTCTCTGGGTTTCAATCGTACCTGGGATGAATGGCGGCGCGAG\n",
      "GAAGATGCAAGAACACACACCACCGAGAGGAGACATGATCGCGGTTGGTCACAGTGAATGTGAACAATAT\n",
      "TTTGTTTTGTTTAACATCGTGTTATGTTCGTCGATGTTCTTCTATGTTCATCGACAGGGATGAATGCAAG\n",
      "AAGCACACACATAATGCAAGCATAGTTTTGTTTTTCCGCCCCCAAAAATTGGGGGTTCTTTTTTCGCTGC\n",
      "ATTAGAGCGCTTTTGACGCAATTTTTCACTTCAATAGTACCTTCGCACTACTAACACAAAAAAAACGCAG\n",
      "CAGGGAGCGTTTTAGGTGCCTTAAAATCGATTTTAGATCGTCATCTTGATCTGTTTGTCTTCCTTGAAGC\n",
      "GAAAATGCAGGGCTACAACCGTGCGCCCCTTTTTGATCGTCTCAACCGTTACAGCCAGGTCGCTTTTTTT\n",
      "GTTCAGTTCGTCAACACAGGGTTTTATTAGTATTTTATTTAAGTCTCTGAATTGTTTGTATTTATTTTCA\n",
      "ATCCCTAACATTGAACGAAAGTCATTAAGAGCAATAATTCTCTCTCCCGTACTGCGGAATTGCTGGAGGA\n",
      "ACTCGTATATTCTTATACTGTAACTACTTGATAAACCTGATATGTTTTTTATAACAACGCGCGTGAATTG\n",
      "CCCCTTCAGTTGCGTCAGATAAGGCATTACCGCGTCAGAAAAGGTTATTCGAGCCTTGGCCTCACCTTTA\n",
      "GCGTACTGTGCCCGATACTGGATCCAGCGGAACTCCTCACGCTTCTCGTCATTCTTGAGAATGATCGACC\n",
      "TGTCCCATAAACGATCGATCGCTTCCTGTAACTGAACCTCGGCATTTTTCCGCCCCATGTCAGGGAATGA\n",
      "ATCAAAATATTCCGCAGCGGTAATGGTCATTGTCTTTTGCAATTCAGCATCAGCACCAGATTTCAATCGA\n",
      "CTGATACACAGCAACAGAAAACGTTGTTCCTGTAGGGTCAACTTGTAGCTGGCCTCAACCAAAGCATTCG\n",
      "ACTTGTAGGCAATCAAGTCCGACATACAAAGATCCCGTTCAAATGTGGTGATGCTTTAATGTGCCCCACA\n",
      "AATAAGAAATGTGGAATATTTTTTTTTATATCCTCACATTTCTGTGAATAACACCTTAAATTCCTCCACC\n",
      "TTTACCTTAAATTCCTCCACCTAAACACCTTAAATTCCTCCACCTTTACCTTAAATTCCTCCACATATAC\n",
      "CTCTATAACATATTGATTTTATTAATGAATTTTGACCCTAAAACAAGTATTAAAAACAAGATCTTAAAAA\n",
      "CAAGATCTAAAAACTTAACGGCGAGCCTGTGGATAACTTGGGGCGCTGAAAACAAAAAACCAATAAAAAC\n",
      "AATGTGTTGCAAGAAAGCAGAATTGCAAGTTCCGAATACTCCCCTTCCAACCCTGTGGAAATCCAGTATT\n",
      "CATGCGGGTTCAGCGCATATCACCTACCGAAAAACCGTGCGTATGTGCTCAACCTGGCGACGGATTCACT\n",
      "TCCGCTTCCTCGCCCACTCGCTCGCTAACGCTCGGTCGCTGGGGCTGCGGCGAGCGGACGATACAATCAC\n",
      "TGTCCTGGCAGCGCCTCCAGCTCGTTAATCAGCGGCAGTATGCGCGTCACATCAGCCTGTCGTGTCACCT\n",
      "CTGCCTTCAGGAACTGGAGTAACCAGGCACGCAACTGCACCTCCTCCGGCTTTCTGACCTTTGCCAGCAA\n",
      "TGCTGCACCCACAACAACCTTCTGCGCTGTGTCCAGGCTCCGGCTCTTCGCCTTCAGGCGCTGTAATCTC\n",
      "GCCTCAGCATCAGCAATCTTCTGTTCGAGCGTTCTGCTCATGATGTAACTCCGTGCGCGATGAAAAATCG\n",
      "CATTTTAGCGCGTCACTGGTAGTTTAAAAACTGAGCTGGCATAATGCGCGACAAATCACAAAGTGCGCAC\n",
      "TTATACAATCTCCACTCCGTTTCGATTGTGTGCGCCCTGCGGGGCTGAAAGAAAACTACAAAAAGGCATT\n",
      "ACGGCAGAAATGGCGATTTATCATCTCAGCATGAAAATTATCTCCAGAAGCAGCGGCTACAGCGCCGTAG\n",
      "CTTCCGCTGCCTATCGTTCCGGTTCACTGATGCTTGATGAGCGTACCGGACTGACTCACGACTACACCCG\n",
      "CAAAAGCGGTGTGGCTGAAGCTGTGATTCTGACCCCCGCGACAGCCCCTGCCTGGTGTACGAACCGTGCC\n",
      "GAACTCTGGAATGCCGTTGAGAAGGCCGAATGCCGGAAGAACTCACAACTTGCGCGGGAAATTGAACTCG\n",
      "CTATCCCCCGTGAACTGCCGCAGGATGCCGCACGGGAAACCGTTCTCGCCTTTGTCAGAGAAAACTTTGT\n",
      "CAGTCAGGGCATGATTGCTGATGTGGCGTTCCATCACATGGATAAAACAAATCCCCATGCGCACATCATG\n",
      "CTGACCACGAGGGCTGTCGGACCTGCTGGGTTCGGCGGAAAGGTCAGGGACTGGAACGACCGGACACATG\n",
      "CCGAGACGTGGCGTGCATCATGGGCTGACCATGCAAACAGAGCACTGGCGAACGCCGGTTATCAGGAAGA\n",
      "GATAGACCATCGTTCATACGAGCGACAGGGGCTTGAGAAAACGCCTGGTATTCACCTCGGAAAGTCTGCC\n",
      "TGTGCGATGGAAACACGCGGTATCGAAACAGAACGCGGCGAACAGAATCGTCTGATTAACAGGCTTAACC\n",
      "TGGAAATACAGATTTCCCGCACTGAACTCAGGAACAGCGGGCTGACAGAGCCTGCCCGCCGTGTGGCTGA\n",
      "CCTTCTGAATATCGTGCTTCCTGACAACGCAACTTCGTACACACTACGTGACATCATCGAAGCGTTGCCG\n",
      "AAGGACAGTAATGCGGCATGGAAACTCACCAGTAATGCCATGTCGATGATGGCAGATATGCAGGCGACGC\n",
      "GCAGACGCTGGGAAGAGCTGAACACCGAACGAAAGGAAGCGATGAGCCATGCTGCCAGCCTGAAAAAATC\n",
      "ATCGCCGTTTTCGTCCGGTTTTTCCCGTATTCCCCTGATGCAATGGGCGGCACCGGAATACCGTAGCGAA\n",
      "CAGGGAAAAATCCAGTCGCTGAGCCAGCAAATGGAAAAATTGCGACAGCATTACCGGAAGGTGGAGAAAC\n",
      "AGGACATTCCCGCGAGTCAGACGGCATTTGAAAAACAGTGGCAGCAGTGGGGGGCATCCGGCCTTGCAGC\n",
      "TCTCAGAGTCCAGTTGCTTAAACGTGAAGAGGAATTGCGCCGGAAGGAGCAGGAGGATACAGAACGTAGT\n",
      "CGCGCGGAGCGACGAGCGGAACAGCTCAGGAAAAATGACAATGCCGTTATGGATTCAGGGGTACTGAGCG\n",
      "CAGTCGTTACGGGGTATGGCGAGGCCCCCATGCCTGGTAACGGGGAAATGACCTGTTACCTTCTGCTTCA\n",
      "CAACCGGAACGGAGAATACACGCTCTGGGGGAACGAGCTGGAGAAATACCGCACCAGAATCTTTGAGCGT\n",
      "GTTGATTTAATGCGTGACAGGAGTGGTTATATCTGTGACCGAAGCGAAATCGGTCAACATCCACCACTGC\n",
      "AACGTGTTTATTCCTCTGCGACCTTTGAGCAACTTCTGACGCAGGTTTGCCAGACATGGCCGCAATATAC\n",
      "CCGCAATCTCCGCCAGCCGAAGACATGGCCGGAGTCTTTCTGTCTTGGAGAAGACCGCCAGCCAGCCATG\n",
      "CCATCACTGGCAGCAAGGAAGGTGGATTTTACGCAGGGACGTCTGCTACCGACGCTGATGCCGGTAATGA\n",
      "GTTCTGTCGACCGGGAAACCCGCCAGCTTCAGCTTTTGCTGGTCATGGGCGTGGATGACTCTCTGGGCGG\n",
      "TGTTGTCCGGCT\n",
      "\n",
      "\n"
     ]
    }
   ],
   "source": [
    "# Searching for E. coli sequences in NCBI GenBank\n",
    "handle = Entrez.esearch(db=\"nucleotide\", term=\"Escherichia coli[Organism]\", retmax=1)\n",
    "record = Entrez.read(handle)\n",
    "\n",
    "# Retrieving the sequence using the accession number\n",
    "accession_number = record[\"IdList\"][0]\n",
    "handle = Entrez.efetch(db=\"nucleotide\", id=accession_number, rettype=\"fasta\", retmode=\"text\")\n",
    "sequence = handle.read()\n",
    "\n",
    "print(sequence)"
   ]
  },
  {
   "cell_type": "code",
   "execution_count": 4,
   "metadata": {},
   "outputs": [
    {
     "name": "stdout",
     "output_type": "stream",
     "text": [
      "Sequence Length:  4217\n",
      "GC Percentage:  49.87\n"
     ]
    }
   ],
   "source": [
    "from Bio.SeqUtils import gc_fraction\n",
    "print(\"Sequence Length: \", len(sequence))\n",
    "print(\"GC Percentage: \", round((gc_fraction(sequence) * 100), 2))"
   ]
  },
  {
   "cell_type": "markdown",
   "metadata": {},
   "source": [
    "We retrieved a nucleotide sequence for *Escherichia coli* using BioPython's Entrez module. The retrieved sequence corresponds to the *Escherichia coli* strain 2024CK-00535 plasmid unnamed5.\n",
    "\n",
    "The sequence header is as follows:\n",
    ">CP157248.1 Escherichia coli strain 2024CK-00535 plasmid unnamed5, complete sequence\n",
    "\n",
    "The sequence contains a series of nucleotide bases (A, T, C, and G) representing the genetic information of the plasmid. This sequence will be used for subsequent BLAST analysis to find similar sequences.\n",
    "\n",
    "Sequence Statistics:\n",
    "- Length: 4217 base pairs\n",
    "- GC Percentage: 49.87%\n",
    "\n"
   ]
  },
  {
   "cell_type": "markdown",
   "metadata": {},
   "source": [
    "**Running BLAST Analysis**\n"
   ]
  },
  {
   "cell_type": "code",
   "execution_count": 5,
   "metadata": {},
   "outputs": [],
   "source": [
    "# Performing BLAST analysis\n",
    "result_handle = NCBIWWW.qblast(\"blastn\", \"nt\", sequence)"
   ]
  },
  {
   "cell_type": "markdown",
   "metadata": {},
   "source": [
    "**Parsing and Filtering BLAST Results**\n",
    "\n",
    "In this step, we will parse the BLAST results to extract relevant information about each alignment. We will filter the alignments based on the E-value threshold to focus on significant matches."
   ]
  },
  {
   "cell_type": "code",
   "execution_count": 30,
   "metadata": {},
   "outputs": [
    {
     "name": "stdout",
     "output_type": "stream",
     "text": [
      "Top 10 Filtered Hits:\n",
      "Hit ID: gi|2738668016|gb|CP157248.1|\n",
      "Hit description: Escherichia coli strain 2024CK-00535 plasmid unnamed5, complete sequence\n",
      "E-value: 0.0\n",
      "Bit score: 7344.6\n",
      "Identity percentage: 100.0\n",
      "Query sequence: TAATGGTACGCTGTATCCCGCGTTTGCCGTTCCCTCAGCCGATAACAGCC...\n",
      "Hit sequence: TAATGGTACGCTGTATCCCGCGTTTGCCGTTCCCTCAGCCGATAACAGCC...\n",
      "\n",
      "Hit ID: gi|2388985681|gb|CP113491.1|\n",
      "Hit description: Escherichia coli strain GTEN_23 plasmid unnamed5, complete sequence\n",
      "E-value: 0.0\n",
      "Bit score: 7339.19\n",
      "Identity percentage: 100.0\n",
      "Query sequence: TAATGGTACGCTGTATCCCGCGTTTGCCGTTCCCTCAGCCGATAACAGCC...\n",
      "Hit sequence: TAATGGTACGCTGTATCCCGCGTTTGCCGTTCCCTCAGCCGATAACAGCC...\n",
      "\n",
      "Hit ID: gi|2581309517|gb|CP134665.1|\n",
      "Hit description: Escherichia coli strain 64A:C plasmid unnamed6, complete sequence\n",
      "E-value: 0.0\n",
      "Bit score: 7232.8\n",
      "Identity percentage: 99.38635247913598\n",
      "Query sequence: TAATGGTACGCTGTATCCCGCGTTTGCCGTTCCCTCAGCCGATAACAGCC...\n",
      "Hit sequence: TAATGGTACGCTGTATCCCGCGTTTGCCGTTCCCTCAGCCGATAACAGCC...\n",
      "\n",
      "Hit ID: gi|2581309517|gb|CP134665.1|\n",
      "Hit description: Escherichia coli strain 64A:C plasmid unnamed6, complete sequence\n",
      "E-value: 0.0\n",
      "Bit score: 5788.3\n",
      "Identity percentage: 99.50754078177901\n",
      "Query sequence: GCGGAATTGCTGGAGGAACTCGTATATTCTTATACTGTAACTACTTGATA...\n",
      "Hit sequence: GCGGAATTGCTGGAGGAACTCGTATATTCTTATACTGTAACTACTTGATA...\n",
      "\n",
      "Hit ID: gi|2581309517|gb|CP134665.1|\n",
      "Hit description: Escherichia coli strain 64A:C plasmid unnamed6, complete sequence\n",
      "E-value: 0.0\n",
      "Bit score: 1442.18\n",
      "Identity percentage: 98.90643985419199\n",
      "Query sequence: TAATGGTACGCTGTATCCCGCGTTTGCCGTTCCCTCAGCCGATAACAGCC...\n",
      "Hit sequence: TAATGGTACGCTGTATCCCGCGTTTGCCGTTCCCTCAGCCGATAACAGCC...\n",
      "\n",
      "Hit ID: gi|2506007898|gb|CP125079.1|\n",
      "Hit description: Escherichia coli strain KFS-B04 plasmid pKFS-B04_3, complete sequence\n",
      "E-value: 0.0\n",
      "Bit score: 7205.74\n",
      "Identity percentage: 99.48135342059767\n",
      "Query sequence: GCCGTTCCCTCAGCCGATAACAGCCAGCTGGTCATCAGTGCACTGACCGA...\n",
      "Hit sequence: GCCGTTCCCTCAGCCGATAACAGCCAGCTGGTCATCAGTGCACTGACCGA...\n",
      "\n",
      "Hit ID: gi|1851738416|gb|CP054350.1|\n",
      "Hit description: Escherichia coli strain SCU-176 plasmid pSCU-176-5, complete sequence\n",
      "E-value: 0.0\n",
      "Bit score: 7113.77\n",
      "Identity percentage: 98.96245059288538\n",
      "Query sequence: TAATGGTACGCTGTATCCCGCGTTTGCCGTTCCCTCAGCCGATAACAGCC...\n",
      "Hit sequence: TAATGGTACGCTGTATCCCGCGTTTGCCGTTCCCTCAGCCGATAACAGCC...\n",
      "\n",
      "Hit ID: gi|2126530323|gb|CP085702.1|\n",
      "Hit description: Salmonella enterica subsp. enterica serovar Typhimurium strain S29 plasmid unnamed2, complete sequence\n",
      "E-value: 0.0\n",
      "Bit score: 7103.85\n",
      "Identity percentage: 99.72250252270433\n",
      "Query sequence: CGATGCAGACAGCCACATATCACCTGCGCCGGAACTTATGGAGTTTCATC...\n",
      "Hit sequence: CGATGCAGACAGCCACATATCACCTGCGCCGGAACTTATGGAGTTTCATC...\n",
      "\n",
      "Hit ID: gi|2126530323|gb|CP085702.1|\n",
      "Hit description: Salmonella enterica subsp. enterica serovar Typhimurium strain S29 plasmid unnamed2, complete sequence\n",
      "E-value: 8.5807e-49\n",
      "Bit score: 212.28\n",
      "Identity percentage: 100.0\n",
      "Query sequence: TAATGGTACGCTGTATCCCGCGTTTGCCGTTCCCTCAGCCGATAACAGCC...\n",
      "Hit sequence: TAATGGTACGCTGTATCCCGCGTTTGCCGTTCCCTCAGCCGATAACAGCC...\n",
      "\n",
      "Hit ID: gi|1360512079|emb|LT985240.1|\n",
      "Hit description: Escherichia coli strain 659 genome assembly, plasmid: RCS32_p\n",
      "E-value: 0.0\n",
      "Bit score: 7038.93\n",
      "Identity percentage: 99.54418840212712\n",
      "Query sequence: TAATGGTACGCTGTATCCCGCGTTTGCCGTTCCCTCAGCCGATAACAGCC...\n",
      "Hit sequence: TAATGGTACGCTGTATCCCGCGTTTGCCGTTCCCTCAGCCGATAACAGCC...\n",
      "\n"
     ]
    }
   ],
   "source": [
    "# Assuming result_handle is a StringIO object containing BLAST XML results\n",
    "result_handle.seek(0)  # Reset the StringIO object's cursor to the beginning\n",
    "blast_result = SearchIO.read(result_handle, \"blast-xml\")\n",
    "\n",
    "# Defining the maximum acceptable E-value, minimum identity percentage, and minimum bit score\n",
    "max_evalue = 1e-5  # Maximum e-value\n",
    "min_identity = 90  # Minimum identity percentage\n",
    "min_bit_score = 50  # Minimum bit score\n",
    "\n",
    "# List to store filtered hits\n",
    "filtered_hits = []\n",
    "\n",
    "# Iterate over each hit in the query result\n",
    "for hit in blast_result:\n",
    "    for hsp in hit.hsps:\n",
    "        identity_percentage = (hsp.ident_num / hsp.aln_span) * 100\n",
    "        if hsp.evalue <= max_evalue and identity_percentage >= min_identity and hsp.bitscore >= min_bit_score:\n",
    "            filtered_hits.append((hit, hsp))\n",
    "\n",
    "# Function to truncate sequences\n",
    "def truncate_sequence(sequence, length=50):\n",
    "    if len(sequence) > length:\n",
    "        return sequence[:length] + \"...\"\n",
    "    return sequence\n",
    "\n",
    "# Print top 10 filtered hits\n",
    "print(\"Top 10 Filtered Hits:\")\n",
    "for hit, hsp in filtered_hits[:10]:  # Slice the list to get only the first 10 elements\n",
    "    print(\"Hit ID:\", hit.id)\n",
    "    print(\"Hit description:\", hit.description)\n",
    "    print(\"E-value:\", hsp.evalue)\n",
    "    print(\"Bit score:\", hsp.bitscore)\n",
    "    print(\"Identity percentage:\", (hsp.ident_num / hsp.aln_span) * 100)\n",
    "    print(\"Query sequence:\", truncate_sequence(hsp.query.seq))\n",
    "    print(\"Hit sequence:\", truncate_sequence(hsp.hit.seq))\n",
    "    print()"
   ]
  },
  {
   "cell_type": "markdown",
   "metadata": {},
   "source": [
    "**Visualizing BLAST Results**\n",
    "\n",
    "In this section, we visualize the distribution of E-values, bit scores, and identity percentages from the significant BLAST alignments.\n"
   ]
  },
  {
   "cell_type": "code",
   "execution_count": 31,
   "metadata": {},
   "outputs": [
    {
     "data": {
      "image/png": "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",
      "text/plain": [
       "<Figure size 1500x500 with 3 Axes>"
      ]
     },
     "metadata": {},
     "output_type": "display_data"
    }
   ],
   "source": [
    "# Extracting data for visualization\n",
    "e_values = [hsp.evalue for alignment, hsp in filtered_hits]\n",
    "bit_scores = [hsp.bitscore for alignment, hsp in filtered_hits]\n",
    "identity_percentages = [(hsp.ident_num / hsp.aln_span) * 100 for alignment, hsp in filtered_hits]\n",
    "\n",
    "plt.figure(figsize=(15, 5))\n",
    "\n",
    "# Plotting the distribution of E-values\n",
    "plt.subplot(1, 3, 1)\n",
    "sns.histplot(e_values, bins=20, kde=True)\n",
    "plt.xlabel('E-value')\n",
    "plt.title('Distribution of E-values')\n",
    "\n",
    "# Plotting the distribution of Bit Scores\n",
    "plt.subplot(1, 3, 2)\n",
    "sns.histplot(bit_scores, bins=20, kde=True)\n",
    "plt.xlabel('Bit Score')\n",
    "plt.title('Distribution of Bit Scores')\n",
    "\n",
    "# Plotting the distribution of Identity Percentages\n",
    "plt.subplot(1, 3, 3)\n",
    "sns.histplot(identity_percentages, bins=20, kde=True)\n",
    "plt.xlabel('Identity Percentage')\n",
    "plt.title('Distribution of Identity Percentages')\n",
    "\n",
    "plt.tight_layout()\n",
    "plt.show()\n"
   ]
  },
  {
   "cell_type": "markdown",
   "metadata": {},
   "source": [
    "The analysis of the distribution plots for E-values, bit scores, and identity percentages provides valuable insights into the significance and similarity of the obtained alignments. The E-value distribution reveals the presence of highly significant alignments with very low E-values, indicating strong matches. Additionally, the distribution of bit scores highlights the prevalence of alignments with high similarity, particularly in certain score ranges. Similarly, the distribution of identity percentages indicates a substantial number of alignments with identical sequences, emphasizing the overall similarity between sequences. These distribution patterns offer valuable information for understanding the quality and significance of the sequence alignments obtained from the BLAST analysis, facilitating further interpretation and biological insights."
   ]
  },
  {
   "cell_type": "markdown",
   "metadata": {},
   "source": [
    "**Processing BLAST Results and Alignment**\n",
    "\n",
    "This code snippet assumes that `result_handle` is a StringIO object containing BLAST XML results. The script first resets the cursor of the StringIO object to the beginning using `result_handle.seek(0)`. Then, it parses the BLAST XML results using `SearchIO.parse(result_handle, \"blast-xml\")` and stores the parsed records in `blast_records`. Next, it selects the best hit from the BLAST results and prints its ID and description. Finally, it extracts the alignment between the query sequence (CP157248.1) and the best hit sequence (CP113491.1)\n"
   ]
  },
  {
   "cell_type": "code",
   "execution_count": 38,
   "metadata": {},
   "outputs": [
    {
     "name": "stdout",
     "output_type": "stream",
     "text": [
      "Query: CP157248.1\n",
      "       Escherichia coli strain 2024CK-00535 plasmid unnamed5, complete sequence\n",
      "  Hit: gi|2388985681|gb|CP113491.1| (4072)\n",
      "       Escherichia coli strain GTEN_23 plasmid unnamed5, complete sequence\n",
      " HSPs: ----  --------  ---------  ------  ---------------  ---------------------\n",
      "          #   E-value  Bit score    Span      Query range              Hit range\n",
      "       ----  --------  ---------  ------  ---------------  ---------------------\n",
      "          0         0    7339.19    4069         [0:4069]               [0:4069]\n",
      "gi|2388985681|gb|CP113491.1|\n",
      "Escherichia coli strain GTEN_23 plasmid unnamed5, complete sequence\n",
      "\n",
      "Alignment with 2 rows and 4069 columns\n",
      "TAATGGTACGCTGTATCCCGCGTTTGCCGTTCCCTCAGCCGATA...CCG CP157248.1\n",
      "TAATGGTACGCTGTATCCCGCGTTTGCCGTTCCCTCAGCCGATA...CCG gi|2388985681|gb|CP113491.1|\n"
     ]
    }
   ],
   "source": [
    "\n",
    "# Assuming result_handle is StringIO object containing BLAST XML results\n",
    "result_handle.seek(0)  # Reset the StringIO object's cursor to the beginning\n",
    "blast_records = SearchIO.parse(result_handle, \"blast-xml\")\n",
    "\n",
    "best_hit = blast_result[1]\n",
    "print(best_hit)\n",
    "print(best_hit.id)\n",
    "print(best_hit.description)\n",
    "\n",
    "print()\n",
    "\n",
    "# Perform the alignment\n",
    "alignment = best_hit.hsps[0].aln\n",
    "print(alignment)"
   ]
  },
  {
   "cell_type": "markdown",
   "metadata": {},
   "source": [
    "### Conclusion\n",
    "\n",
    "In this project, I utilized Biopython to parse BLAST XML results and extract significant alignments. I visualized key parameters such as E-value, bit score, and identity percentage using bar plots, and performed pairwise alignment between the query sequence and the best hit from BLAST. Additionally, I explored different visualization methods for the alignment, aiming to illustrate sequence similarities and differences effectively.\n",
    "\n",
    "### Importance of BLAST in Bioinformatics\n",
    "\n",
    "BLAST (Basic Local Alignment Search Tool) is a fundamental tool in bioinformatics for comparing biological sequences. It allows researchers to identify similar sequences in large databases, providing valuable insights into evolutionary relationships, functional annotations, and genetic variations. BLAST facilitates various analyses, including genome annotation, gene discovery, and phylogenetic studies, making it an indispensable resource for understanding the structure and function of biological molecules.\n"
  }
 ],
 "metadata": {
  "kernelspec": {
   "display_name": "Python 3",
   "language": "python",
   "name": "python3"
  },
  "language_info": {
   "codemirror_mode": {
    "name": "ipython",
    "version": 3
   },
   "file_extension": ".py",
   "mimetype": "text/x-python",
   "name": "python",
   "nbconvert_exporter": "python",
   "pygments_lexer": "ipython3",
   "version": "3.12.3"
  }
 },
 "nbformat": 4,
 "nbformat_minor": 2
}
