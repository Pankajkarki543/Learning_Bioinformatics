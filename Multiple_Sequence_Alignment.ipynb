{
 "cells": [
  {
   "cell_type": "markdown",
   "metadata": {},
   "source": [
    "# Multiple Sequence Alignment of 16S Ribosomal RNA Genes in Bacteria\n",
    "\n",
    "## Introduction to Multiple Sequence Alignment (MSA)\n",
    "\n",
    "Multiple sequence alignment (MSA) is a method used to align three or more biological sequences (protein, DNA, or RNA) to identify regions of similarity that may indicate functional, structural, or evolutionary relationships. MSA is crucial for:\n",
    "- Identifying conserved sequences across different species\n",
    "- Inferring phylogenetic relationships\n",
    "- Predicting secondary and tertiary structures of proteins and RNAs\n",
    "- Understanding evolutionary changes and functional divergence\n",
    "\n",
    "In this project, we focus on the 16S ribosomal RNA (rRNA) genes from various bacteria. The 16S rRNA gene is a highly conserved component of the small subunit of prokaryotic ribosomes and is commonly used in phylogenetic studies. By leveraging MSA, we aim to explore the conserved regions and variations among these bacterial sequences. The steps will include sequence retrieval, performing MSA using different tools, and analyzing the results comprehensively.\n"
   ]
  },
  {
   "cell_type": "markdown",
   "metadata": {},
   "source": [
    "**Sequence Retrieval:**                                                                                                                                       \n",
    "We'll retrieve the 16S rRNA gene sequences for various bacteria using NCBI Entrez."
   ]
  },
  {
   "cell_type": "code",
   "execution_count": 1,
   "metadata": {},
   "outputs": [
    {
     "name": "stdout",
     "output_type": "stream",
     "text": [
      "Number of sequences found: 141\n",
      "Number of sequence IDs retrieved: 20\n",
      "Number of sequences fetched: 16\n",
      "Number of sequences after filtering: 10\n",
      "Length of FN185731.1: 1513\n",
      "Length of FJ184385.1: 1384\n",
      "Length of DQ103668.1: 1488\n",
      "Length of DQ103667.1: 1466\n",
      "Length of DQ103666.1: 1477\n",
      "Length of DQ103665.1: 1464\n",
      "Length of DQ103664.1: 1463\n",
      "Length of DQ103663.1: 1481\n",
      "Length of DQ103662.1: 1458\n",
      "Length of DQ103661.1: 1415\n"
     ]
    }
   ],
   "source": [
    "from Bio import Entrez, SeqIO\n",
    "\n",
    "# Setting up email address to NCBI\n",
    "Entrez.email = \"karkidholipankaj@gmail.com\"\n",
    "\n",
    "# Searching for 16S rRNA sequences from bacteria\n",
    "search_term = \"16S ribosomal RNA[Gene] AND Bacteria[Organism]\"\n",
    "handle = Entrez.esearch(db=\"nucleotide\", term=search_term, retmax=20)\n",
    "record = Entrez.read(handle)\n",
    "handle.close()\n",
    "\n",
    "# Printing the number of sequences found\n",
    "print(\"Number of sequences found:\", record[\"Count\"])\n",
    "\n",
    "# Fetching the sequences\n",
    "id_list = record[\"IdList\"]\n",
    "print(\"Number of sequence IDs retrieved:\", len(id_list))\n",
    "\n",
    "handle = Entrez.efetch(db=\"nucleotide\", id=id_list, rettype=\"fasta\", retmode=\"text\")\n",
    "sequences = list(SeqIO.parse(handle, \"fasta\"))\n",
    "handle.close()\n",
    "\n",
    "# Filtering sequences to be within the expected length for 16S rRNA\n",
    "filtered_sequences = []\n",
    "for seq in sequences:\n",
    "    if 1200 <= len(seq.seq) <= 1600:\n",
    "        filtered_sequences.append(seq)\n",
    "\n",
    "# Checking the number of sequences retrieved and filtered\n",
    "print(\"Number of sequences fetched:\", len(sequences))\n",
    "print(\"Number of sequences after filtering:\", len(filtered_sequences))\n",
    "\n",
    "# Saving filtered sequences to a file\n",
    "output_handle = open(\"bacterial_16s_rrna_filtered.fasta\", \"w\")\n",
    "SeqIO.write(filtered_sequences, output_handle, \"fasta\")\n",
    "output_handle.close()\n",
    "\n",
    "# Calculating the length of each filtered sequence\n",
    "for record in filtered_sequences:\n",
    "    print(\"Length of \" + record.id + \": \" + str(len(record.seq)))"
   ]
  },
  {
   "cell_type": "markdown",
   "metadata": {},
   "source": [
    "**Performing Multiple Sequence Alignment (MSA)**                                                                                       \n",
    "We will now perform multiple sequence alignment (MSA) using ClustalW. This process aligns the sequences to identify regions of similarity, which may indicate functional, structural, or evolutionary relationships between the sequences."
   ]
  },
  {
   "cell_type": "code",
   "execution_count": 5,
   "metadata": {},
   "outputs": [
    {
     "name": "stdout",
     "output_type": "stream",
     "text": [
      ">DQ103664.1 -------------------ATTGAACGCTGGCGGCATGCCTAACACATGCAAGTCGAACGGT--AACGCGGGAGCTTGCTCCT-------.....\n",
      ">DQ103663.1 -------------------ATTGAACGCTGGCGGCATGCTTAACACATGCAAGTCGTGGGGC--AGCAGGTCAGACAATCCCTTCGGGGT.....\n",
      ">DQ103665.1 -------------------ATTGAACGCTAGCGGCATGCCTGACACATGCAAGTCGAACGGC--AGCGCGGGAAAGCTTGCTTTCC----.....\n",
      ">DQ103662.1 -------------------AATAAACGTTGGCGGCGTGCCTAACACATGCAAGTCG--------AGCGAGAAAGCTTCTTCGGGAG----.....\n",
      ">DQ103667.1 -------------------AATGAACGCTGGCGGCGTGCCTAACACATGCAAGTCGAGCGAG--AAAGCCC----CCTTCGGGGGG----.....\n",
      ">DQ103666.1 -------------------AATGAACGCTGGCGGCGTGCCTAACACATGCAAGTCGAGCGAG--AAAGTCA----CCTTCGGGTGG----.....\n",
      ">DQ103668.1 -------------------AATGAACGCTGGCGGCGTGCTTAACACATGCAAGTCGAACGAG--AAAGCCGAAAGCTTGCTTTTGG----.....\n",
      ">FJ184385.1 -----------------------------------------------TGCAAGTCG--------AACGGAA----TCCTTAG--------.....\n",
      ">FN185731.1 AGTTTTGATTATGGCTCAGGACGAACGCTGGCGGCATGCCTAATACATGCAAGTCGAACGCGTCTTCGTTAACTGAAGTGCTTGCACGGA.....\n",
      ">DQ103661.1 -------------------GACGAACGCTGGCGGCGTGCCTAATGCATGCAAGTCG--------AACGCGTCGAACTTCGGTT-------.....\n"
     ]
    }
   ],
   "source": [
    "from Bio.Align.Applications import ClustalwCommandline\n",
    "from Bio import AlignIO\n",
    "\n",
    "# Path to ClustalW executable\n",
    "clustalw_exe = r\"C:\\\\Program Files (x86)\\\\ClustalW2\\\\clustalw2.exe\"\n",
    "\n",
    "# Defining input and output files\n",
    "in_file = \"bacterial_16s_rrna_filtered.fasta\"\n",
    "out_file = \"bacterial_16s_rrna_filtered.aln\"\n",
    "\n",
    "# Setting up the ClustalW command line\n",
    "clustalw_cline = ClustalwCommandline(clustalw_exe, infile=in_file)\n",
    "\n",
    "# Running ClustalW\n",
    "stdout, stderr = clustalw_cline()\n",
    "\n",
    "# Loading the alignment file\n",
    "alignment = AlignIO.read(\"bacterial_16s_rrna_filtered.aln\", \"clustal\")\n",
    "\n",
    "# Printing the alignment after truncating\n",
    "for record in alignment:\n",
    "    truncated_seq = str(record.seq)[:90]\n",
    "    if len(record.seq) > 90:\n",
    "        truncated_seq += \".....\"\n",
    "    print(f\">{record.id} {truncated_seq}\")\n",
    "    "
   ]
  },
  {
   "cell_type": "markdown",
   "metadata": {},
   "source": [
    "**Consensus Sequence:**"
   ]
  },
  {
   "cell_type": "code",
   "execution_count": 4,
   "metadata": {},
   "outputs": [
    {
     "name": "stdout",
     "output_type": "stream",
     "text": [
      "AGTTTTGATTATGGCTCAGAXTGAACGCTGGCGGCXTGCCTAACACATGCAAGTCGAXCGXXTCAXCGXXXXAXXXXXTXXXXXXGXGGXXXXTXAXXXXXXGXXXAGXGGCGXACGGGTGAGTAACXCGTXGGTAAXCTXCCXXXXXGXXXGGGATAACXCXXXGAAAXXXGXGCTAATACCGXATXXXXXCCXGXXXXCTXXGGCXXXXXGGXXXAAAGXXGGXXTCTXCATXXXXGCTXXXGCXXXXGGATGXGCCXGCGTCCXATTAGCTXGTTGGTGXGGTAAXGGCTCACCAAGGCXACGATXGGTAGCTGGTCTGAGAGGATGATCAGCCACACTGGGACTGAGACACGGCCCAGACTCCTACGGGAGGCAGCAGTGGGGAATXTTGXXCAATGGGCGXAAGCCTGAXXCAGCAAXGCCGCGTGXGXGAAGAAGGCXXTCGGGTXGTAAAXCXCTXTXXXXXGGGAAGAAXXXXXXXXXGXTTAAXAXXXXXXXXXXXTGACGGTACCXXXXGAXXAAGCACCGGCTAACTCCGTGCCAGCAGCCGCGGTAATACGGAGGGTGCAAGCGTTATTCGGAATXACTGGGCGTAAAGXGXXCGXAGGCGGXXXXXTAAGTCXGXTGTGAAAGCCCXXGGCTXAACCXXGGAAXXGCAXTXGAXACTGXXXXXCTXGAGTXXGGXAGAGGXXAGXGGAATTCCXGGTGTAGCGGTGAAATGCGTAGATATCXGGAXGAACACCXGTGGCGAAGGCGGCTXXCTGGXCCXXXACTGACGCTGAGGXXCGAAAGCGTGGGXAGCAAACAGGATTAGATACCCTGGTAGTCCACGCCGTAAACGATGXXXXCTAGXTGTTTGGGXXXXXXXTXXXXXXXXTXAGTGXCGXAGCTAACGCGTTAAGXXXXCCGCCTGGGGAGTACGGXCGCAAGXXTXAAACTCAAAGGAATTGACGGGGGCCCGCACAAGCGGTGGAGCATGTGGTTTAATTCGATGCAACGCGAAGAACCTTACCXGGXCTTGACATGCXXXXGAAXXTXXTXGAXAXXXAGXXXXGTGCGCXTXCGGGGAXCCXXXTGCACAGGTGCTGCATGGCTGTCGTCAGCTCGTGTCGTGAGATGTTGGGTTAAGTCCCGCAACGAGCGCAACCCXTXTXXTTAGTTGCCAGCXCXTTXXGXXGGGXACTCTAXXGAGACTGCCGXXGAXAGAXXCGGAGGAAGGTGGGGATGACGTCAAGTCATCATGGCCCTTAXGXCCXGGGCTACACACGTGCTACAATGGXXGGXACAXAGGGXXGCXAXXXCGXGAGXXXXAGCXAATCXCAXAAAXCCXXXCXXAGTXCGGATTGXAGTCTGCAACTCGACTXCATGAAGXXGGAATCGCTAGTAATCGCGGATCAGCXATGCCGCGGTGAATACGTTCCCGGGCCTTGTACACACCGCCCGTCACACCATGXXAGTTGGXTXXACCXGAAGTTXXXTXXXCTAACCTTXAXGGGXGGXXGXXXXCXAXGGTAXGGXTGATGAXTGGGGTGAAGTCG\n"
     ]
    }
   ],
   "source": [
    "from Bio.Align import AlignInfo\n",
    "\n",
    "# Generating summary of the alignment\n",
    "summary_align = AlignInfo.SummaryInfo(alignment)\n",
    "\n",
    "# Getting the consensus sequence\n",
    "consensus = summary_align.dumb_consensus()\n",
    "\n",
    "# Printing the consensus sequence\n",
    "print(consensus)"
   ]
  },
  {
   "cell_type": "markdown",
   "metadata": {},
   "source": [
    "The consensus sequence generated from aligning 10 sequences of 16S rRNA shows both conserved and variable regions. Conserved regions, represented by consistent nucleotide patterns, are likely functionally significant for the 16S rRNA's role in ribosomal RNA structure and function. These regions are crucial for maintaining the integrity and function of the ribosome. In contrast, segments with frequent ambiguous bases (X) indicate variability, reflecting genetic diversity among the sequences or regions with less evolutionary pressure to conserve specific nucleotides. This variability can provide insights into the evolutionary relationships and adaptations among the organisms from which these sequences were derived."
   ]
  },
  {
   "cell_type": "markdown",
   "metadata": {},
   "source": [
    "**References:**    \n",
    "                                                                                                                              \n",
    "Janda, J. M., & Abbott, S. L. (2007). “16S rRNA Gene Sequencing for Bacterial Identification in the Diagnostic Laboratory: Pluses, Perils, and Pitfalls.” Journal of Clinical Microbiology, 45(9), 2761–2764. doi:10.1128/JCM.01228–07.                                                                                                                                        \n",
    "\n",
    "Thompson, J. D., Higgins, D. G., & Gibson, T. J. (1994). “CLUSTAL W: improving the sensitivity of progressive multiple sequence alignment through sequence weighting, position-specific gap penalties and weight matrix choice.” Nucleic Acids Research, 22(22), 4673–4680. doi:10.1093/nar/22.22.4673."
   ]
  }
 ],
 "metadata": {
  "kernelspec": {
   "display_name": "Python 3",
   "language": "python",
   "name": "python3"
  },
  "language_info": {
   "codemirror_mode": {
    "name": "ipython",
    "version": 3
   },
   "file_extension": ".py",
   "mimetype": "text/x-python",
   "name": "python",
   "nbconvert_exporter": "python",
   "pygments_lexer": "ipython3",
   "version": "3.12.3"
  }
 },
 "nbformat": 4,
 "nbformat_minor": 2
}
